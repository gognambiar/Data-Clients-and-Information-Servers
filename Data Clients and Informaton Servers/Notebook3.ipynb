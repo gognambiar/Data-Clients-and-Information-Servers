{
 "cells": [
  {
   "cell_type": "code",
   "execution_count": 7,
   "metadata": {
    "collapsed": false
   },
   "outputs": [
    {
     "name": "stdout",
     "output_type": "stream",
     "text": [
      "[1] \"Using direct authentication\"\n"
     ]
    }
   ],
   "source": [
    "library(twitteR)\n",
    "library(sqldf)\n",
    "library(ggmap)\n",
    "require(ggplot2)\n",
    "library(maps)\n",
    "setup_twitter_oauth(\"\",\"\",\"\",\"\")#Enter your OAuth creds here"
   ]
  },
  {
   "cell_type": "code",
   "execution_count": 8,
   "metadata": {
    "collapsed": false
   },
   "outputs": [],
   "source": [
    "trendFinderCoord <- function(lat,long){\n",
    "p <- closestTrendLocations(lat = lat, long = long)\n",
    "t<-getTrends(woeid = p$woeid)\n",
    "msg1 <- \"The trends in this location are \"\n",
    "msg2 <- c(head(t$name))\n",
    "msg <- paste(msg1,\"-\",msg2[1],\",\",msg2[2],\",\",msg2[3],\",\",msg2[4],\",\",msg2[5])\n",
    "msg\n",
    "}"
   ]
  },
  {
   "cell_type": "code",
   "execution_count": 9,
   "metadata": {
    "collapsed": true
   },
   "outputs": [],
   "source": [
    "trendFinderPlace <- function(place){\n",
    "locat <- geocode(location = place, source = \"dsk\")\n",
    "p <- closestTrendLocations(lat = locat$lat, long = locat$lon)\n",
    "t<-getTrends(woeid = p$woeid)\n",
    "msg1 <- \"The trends in this location are \"\n",
    "msg2 <- c(head(t$name))\n",
    "msg <- paste(msg1,\"-\",msg2[1],\",\",msg2[2],\",\",msg2[3],\",\",msg2[4],\",\",msg2[5])\n",
    "msg\n",
    "}"
   ]
  },
  {
   "cell_type": "code",
   "execution_count": 10,
   "metadata": {
    "collapsed": false
   },
   "outputs": [
    {
     "data": {
      "text/html": [
       "<span style=white-space:pre-wrap>'The trends in this location are  - Sidney Crosby , #Supernatural , #Scandal , #BEaGC , #TrumpPresser'</span>"
      ],
      "text/latex": [
       "'The trends in this location are  - Sidney Crosby , \\#Supernatural , \\#Scandal , \\#BEaGC , \\#TrumpPresser'"
      ],
      "text/markdown": [
       "<span style=white-space:pre-wrap>'The trends in this location are  - Sidney Crosby , #Supernatural , #Scandal , #BEaGC , #TrumpPresser'</span>"
      ],
      "text/plain": [
       "[1] \"The trends in this location are  - Sidney Crosby , #Supernatural , #Scandal , #BEaGC , #TrumpPresser\""
      ]
     },
     "metadata": {},
     "output_type": "display_data"
    }
   ],
   "source": [
    "#Use the below variables if you want to search by longitude and latitude\n",
    "lat = 42.94 #Please enter the approximate latitude of the place\n",
    "long = -78.82 #Please enter the approximate longitude of the place\n",
    "trendFinderCoord(lat,long)"
   ]
  },
  {
   "cell_type": "code",
   "execution_count": 11,
   "metadata": {
    "collapsed": false
   },
   "outputs": [
    {
     "data": {
      "text/html": [
       "<span style=white-space:pre-wrap>'The trends in this location are  - #Scandal , #GreysAnatomy , #DayWithoutImmigrants , #hurtbae , Kylie Lip Kits'</span>"
      ],
      "text/latex": [
       "'The trends in this location are  - \\#Scandal , \\#GreysAnatomy , \\#DayWithoutImmigrants , \\#hurtbae , Kylie Lip Kits'"
      ],
      "text/markdown": [
       "<span style=white-space:pre-wrap>'The trends in this location are  - #Scandal , #GreysAnatomy , #DayWithoutImmigrants , #hurtbae , Kylie Lip Kits'</span>"
      ],
      "text/plain": [
       "[1] \"The trends in this location are  - #Scandal , #GreysAnatomy , #DayWithoutImmigrants , #hurtbae , Kylie Lip Kits\""
      ]
     },
     "metadata": {},
     "output_type": "display_data"
    }
   ],
   "source": [
    "#Use the below variable if you want to search by place\n",
    "place = \"New York\"#Please enter the place here\n",
    "trendFinderPlace(place)"
   ]
  }
 ],
 "metadata": {
  "kernelspec": {
   "display_name": "R",
   "language": "R",
   "name": "ir"
  },
  "language_info": {
   "codemirror_mode": "r",
   "file_extension": ".r",
   "mimetype": "text/x-r-source",
   "name": "R",
   "pygments_lexer": "r",
   "version": "3.3.2"
  }
 },
 "nbformat": 4,
 "nbformat_minor": 2
}
